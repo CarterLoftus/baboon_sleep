{
 "cells": [
  {
   "cell_type": "code",
   "execution_count": 1,
   "metadata": {},
   "outputs": [],
   "source": [
    "import os\n",
    "import pandas as pd\n",
    "import numpy as np\n",
    "import matplotlib.pyplot as plt\n",
    "import datetime as dt"
   ]
  },
  {
   "cell_type": "code",
   "execution_count": null,
   "metadata": {},
   "outputs": [],
   "source": []
  },
  {
   "cell_type": "code",
   "execution_count": 5,
   "metadata": {
    "scrolled": false
   },
   "outputs": [],
   "source": [
    "# set working directory to the repository \n",
    "os.chdir( \"C:/Users/cloftus/Documents/baboon_sleep/\" )"
   ]
  },
  {
   "cell_type": "code",
   "execution_count": 6,
   "metadata": {},
   "outputs": [],
   "source": [
    "os.chdir( \"DATA/main_data\" )"
   ]
  },
  {
   "cell_type": "code",
   "execution_count": 7,
   "metadata": {},
   "outputs": [
    {
     "ename": "FileNotFoundError",
     "evalue": "[Errno 2] File b'Papio anubis (Olive baboon) Crofoot; Mpala Research Center, Kenya.csv' does not exist: b'Papio anubis (Olive baboon) Crofoot; Mpala Research Center, Kenya.csv'",
     "output_type": "error",
     "traceback": [
      "\u001b[1;31m---------------------------------------------------------------------------\u001b[0m",
      "\u001b[1;31mFileNotFoundError\u001b[0m                         Traceback (most recent call last)",
      "\u001b[1;32m<ipython-input-7-6683101bc68f>\u001b[0m in \u001b[0;36m<module>\u001b[1;34m\u001b[0m\n\u001b[1;32m----> 1\u001b[1;33m \u001b[0mdat1\u001b[0m \u001b[1;33m=\u001b[0m \u001b[0mpd\u001b[0m\u001b[1;33m.\u001b[0m\u001b[0mread_csv\u001b[0m\u001b[1;33m(\u001b[0m\u001b[1;34m\"Papio anubis (Olive baboon) Crofoot; Mpala Research Center, Kenya.csv\"\u001b[0m\u001b[1;33m,\u001b[0m \u001b[0mheader\u001b[0m\u001b[1;33m=\u001b[0m\u001b[1;36m0\u001b[0m\u001b[1;33m)\u001b[0m\u001b[1;33m\u001b[0m\u001b[1;33m\u001b[0m\u001b[0m\n\u001b[0m",
      "\u001b[1;32m~\\Anaconda3\\lib\\site-packages\\pandas\\io\\parsers.py\u001b[0m in \u001b[0;36mparser_f\u001b[1;34m(filepath_or_buffer, sep, delimiter, header, names, index_col, usecols, squeeze, prefix, mangle_dupe_cols, dtype, engine, converters, true_values, false_values, skipinitialspace, skiprows, skipfooter, nrows, na_values, keep_default_na, na_filter, verbose, skip_blank_lines, parse_dates, infer_datetime_format, keep_date_col, date_parser, dayfirst, cache_dates, iterator, chunksize, compression, thousands, decimal, lineterminator, quotechar, quoting, doublequote, escapechar, comment, encoding, dialect, error_bad_lines, warn_bad_lines, delim_whitespace, low_memory, memory_map, float_precision)\u001b[0m\n\u001b[0;32m    683\u001b[0m         )\n\u001b[0;32m    684\u001b[0m \u001b[1;33m\u001b[0m\u001b[0m\n\u001b[1;32m--> 685\u001b[1;33m         \u001b[1;32mreturn\u001b[0m \u001b[0m_read\u001b[0m\u001b[1;33m(\u001b[0m\u001b[0mfilepath_or_buffer\u001b[0m\u001b[1;33m,\u001b[0m \u001b[0mkwds\u001b[0m\u001b[1;33m)\u001b[0m\u001b[1;33m\u001b[0m\u001b[1;33m\u001b[0m\u001b[0m\n\u001b[0m\u001b[0;32m    686\u001b[0m \u001b[1;33m\u001b[0m\u001b[0m\n\u001b[0;32m    687\u001b[0m     \u001b[0mparser_f\u001b[0m\u001b[1;33m.\u001b[0m\u001b[0m__name__\u001b[0m \u001b[1;33m=\u001b[0m \u001b[0mname\u001b[0m\u001b[1;33m\u001b[0m\u001b[1;33m\u001b[0m\u001b[0m\n",
      "\u001b[1;32m~\\Anaconda3\\lib\\site-packages\\pandas\\io\\parsers.py\u001b[0m in \u001b[0;36m_read\u001b[1;34m(filepath_or_buffer, kwds)\u001b[0m\n\u001b[0;32m    455\u001b[0m \u001b[1;33m\u001b[0m\u001b[0m\n\u001b[0;32m    456\u001b[0m     \u001b[1;31m# Create the parser.\u001b[0m\u001b[1;33m\u001b[0m\u001b[1;33m\u001b[0m\u001b[1;33m\u001b[0m\u001b[0m\n\u001b[1;32m--> 457\u001b[1;33m     \u001b[0mparser\u001b[0m \u001b[1;33m=\u001b[0m \u001b[0mTextFileReader\u001b[0m\u001b[1;33m(\u001b[0m\u001b[0mfp_or_buf\u001b[0m\u001b[1;33m,\u001b[0m \u001b[1;33m**\u001b[0m\u001b[0mkwds\u001b[0m\u001b[1;33m)\u001b[0m\u001b[1;33m\u001b[0m\u001b[1;33m\u001b[0m\u001b[0m\n\u001b[0m\u001b[0;32m    458\u001b[0m \u001b[1;33m\u001b[0m\u001b[0m\n\u001b[0;32m    459\u001b[0m     \u001b[1;32mif\u001b[0m \u001b[0mchunksize\u001b[0m \u001b[1;32mor\u001b[0m \u001b[0miterator\u001b[0m\u001b[1;33m:\u001b[0m\u001b[1;33m\u001b[0m\u001b[1;33m\u001b[0m\u001b[0m\n",
      "\u001b[1;32m~\\Anaconda3\\lib\\site-packages\\pandas\\io\\parsers.py\u001b[0m in \u001b[0;36m__init__\u001b[1;34m(self, f, engine, **kwds)\u001b[0m\n\u001b[0;32m    893\u001b[0m             \u001b[0mself\u001b[0m\u001b[1;33m.\u001b[0m\u001b[0moptions\u001b[0m\u001b[1;33m[\u001b[0m\u001b[1;34m\"has_index_names\"\u001b[0m\u001b[1;33m]\u001b[0m \u001b[1;33m=\u001b[0m \u001b[0mkwds\u001b[0m\u001b[1;33m[\u001b[0m\u001b[1;34m\"has_index_names\"\u001b[0m\u001b[1;33m]\u001b[0m\u001b[1;33m\u001b[0m\u001b[1;33m\u001b[0m\u001b[0m\n\u001b[0;32m    894\u001b[0m \u001b[1;33m\u001b[0m\u001b[0m\n\u001b[1;32m--> 895\u001b[1;33m         \u001b[0mself\u001b[0m\u001b[1;33m.\u001b[0m\u001b[0m_make_engine\u001b[0m\u001b[1;33m(\u001b[0m\u001b[0mself\u001b[0m\u001b[1;33m.\u001b[0m\u001b[0mengine\u001b[0m\u001b[1;33m)\u001b[0m\u001b[1;33m\u001b[0m\u001b[1;33m\u001b[0m\u001b[0m\n\u001b[0m\u001b[0;32m    896\u001b[0m \u001b[1;33m\u001b[0m\u001b[0m\n\u001b[0;32m    897\u001b[0m     \u001b[1;32mdef\u001b[0m \u001b[0mclose\u001b[0m\u001b[1;33m(\u001b[0m\u001b[0mself\u001b[0m\u001b[1;33m)\u001b[0m\u001b[1;33m:\u001b[0m\u001b[1;33m\u001b[0m\u001b[1;33m\u001b[0m\u001b[0m\n",
      "\u001b[1;32m~\\Anaconda3\\lib\\site-packages\\pandas\\io\\parsers.py\u001b[0m in \u001b[0;36m_make_engine\u001b[1;34m(self, engine)\u001b[0m\n\u001b[0;32m   1133\u001b[0m     \u001b[1;32mdef\u001b[0m \u001b[0m_make_engine\u001b[0m\u001b[1;33m(\u001b[0m\u001b[0mself\u001b[0m\u001b[1;33m,\u001b[0m \u001b[0mengine\u001b[0m\u001b[1;33m=\u001b[0m\u001b[1;34m\"c\"\u001b[0m\u001b[1;33m)\u001b[0m\u001b[1;33m:\u001b[0m\u001b[1;33m\u001b[0m\u001b[1;33m\u001b[0m\u001b[0m\n\u001b[0;32m   1134\u001b[0m         \u001b[1;32mif\u001b[0m \u001b[0mengine\u001b[0m \u001b[1;33m==\u001b[0m \u001b[1;34m\"c\"\u001b[0m\u001b[1;33m:\u001b[0m\u001b[1;33m\u001b[0m\u001b[1;33m\u001b[0m\u001b[0m\n\u001b[1;32m-> 1135\u001b[1;33m             \u001b[0mself\u001b[0m\u001b[1;33m.\u001b[0m\u001b[0m_engine\u001b[0m \u001b[1;33m=\u001b[0m \u001b[0mCParserWrapper\u001b[0m\u001b[1;33m(\u001b[0m\u001b[0mself\u001b[0m\u001b[1;33m.\u001b[0m\u001b[0mf\u001b[0m\u001b[1;33m,\u001b[0m \u001b[1;33m**\u001b[0m\u001b[0mself\u001b[0m\u001b[1;33m.\u001b[0m\u001b[0moptions\u001b[0m\u001b[1;33m)\u001b[0m\u001b[1;33m\u001b[0m\u001b[1;33m\u001b[0m\u001b[0m\n\u001b[0m\u001b[0;32m   1136\u001b[0m         \u001b[1;32melse\u001b[0m\u001b[1;33m:\u001b[0m\u001b[1;33m\u001b[0m\u001b[1;33m\u001b[0m\u001b[0m\n\u001b[0;32m   1137\u001b[0m             \u001b[1;32mif\u001b[0m \u001b[0mengine\u001b[0m \u001b[1;33m==\u001b[0m \u001b[1;34m\"python\"\u001b[0m\u001b[1;33m:\u001b[0m\u001b[1;33m\u001b[0m\u001b[1;33m\u001b[0m\u001b[0m\n",
      "\u001b[1;32m~\\Anaconda3\\lib\\site-packages\\pandas\\io\\parsers.py\u001b[0m in \u001b[0;36m__init__\u001b[1;34m(self, src, **kwds)\u001b[0m\n\u001b[0;32m   1915\u001b[0m         \u001b[0mkwds\u001b[0m\u001b[1;33m[\u001b[0m\u001b[1;34m\"usecols\"\u001b[0m\u001b[1;33m]\u001b[0m \u001b[1;33m=\u001b[0m \u001b[0mself\u001b[0m\u001b[1;33m.\u001b[0m\u001b[0musecols\u001b[0m\u001b[1;33m\u001b[0m\u001b[1;33m\u001b[0m\u001b[0m\n\u001b[0;32m   1916\u001b[0m \u001b[1;33m\u001b[0m\u001b[0m\n\u001b[1;32m-> 1917\u001b[1;33m         \u001b[0mself\u001b[0m\u001b[1;33m.\u001b[0m\u001b[0m_reader\u001b[0m \u001b[1;33m=\u001b[0m \u001b[0mparsers\u001b[0m\u001b[1;33m.\u001b[0m\u001b[0mTextReader\u001b[0m\u001b[1;33m(\u001b[0m\u001b[0msrc\u001b[0m\u001b[1;33m,\u001b[0m \u001b[1;33m**\u001b[0m\u001b[0mkwds\u001b[0m\u001b[1;33m)\u001b[0m\u001b[1;33m\u001b[0m\u001b[1;33m\u001b[0m\u001b[0m\n\u001b[0m\u001b[0;32m   1918\u001b[0m         \u001b[0mself\u001b[0m\u001b[1;33m.\u001b[0m\u001b[0munnamed_cols\u001b[0m \u001b[1;33m=\u001b[0m \u001b[0mself\u001b[0m\u001b[1;33m.\u001b[0m\u001b[0m_reader\u001b[0m\u001b[1;33m.\u001b[0m\u001b[0munnamed_cols\u001b[0m\u001b[1;33m\u001b[0m\u001b[1;33m\u001b[0m\u001b[0m\n\u001b[0;32m   1919\u001b[0m \u001b[1;33m\u001b[0m\u001b[0m\n",
      "\u001b[1;32mpandas\\_libs\\parsers.pyx\u001b[0m in \u001b[0;36mpandas._libs.parsers.TextReader.__cinit__\u001b[1;34m()\u001b[0m\n",
      "\u001b[1;32mpandas\\_libs\\parsers.pyx\u001b[0m in \u001b[0;36mpandas._libs.parsers.TextReader._setup_parser_source\u001b[1;34m()\u001b[0m\n",
      "\u001b[1;31mFileNotFoundError\u001b[0m: [Errno 2] File b'Papio anubis (Olive baboon) Crofoot; Mpala Research Center, Kenya.csv' does not exist: b'Papio anubis (Olive baboon) Crofoot; Mpala Research Center, Kenya.csv'"
     ]
    }
   ],
   "source": [
    "dat1 = pd.read_csv(\"Collective movement in wild baboons\", header=0)"
   ]
  },
  {
   "cell_type": "code",
   "execution_count": 4,
   "metadata": {},
   "outputs": [
    {
     "data": {
      "text/plain": [
       "['event-id',\n",
       " 'visible',\n",
       " 'timestamp',\n",
       " 'eobs:acceleration-axes',\n",
       " 'eobs:acceleration-sampling-frequency-per-axis',\n",
       " 'eobs:accelerations-raw',\n",
       " 'eobs:key-bin-checksum',\n",
       " 'eobs:start-timestamp',\n",
       " 'sensor-type',\n",
       " 'individual-taxon-canonical-name',\n",
       " 'tag-local-identifier',\n",
       " 'individual-local-identifier',\n",
       " 'study-name']"
      ]
     },
     "execution_count": 4,
     "metadata": {},
     "output_type": "execute_result"
    }
   ],
   "source": [
    "list(dat1)"
   ]
  },
  {
   "cell_type": "code",
   "execution_count": 5,
   "metadata": {},
   "outputs": [],
   "source": [
    "dat1 = dat1[ [ 'tag-local-identifier', 'timestamp', 'eobs:acceleration-sampling-frequency-per-axis',\n",
    " 'eobs:accelerations-raw'] ]"
   ]
  },
  {
   "cell_type": "code",
   "execution_count": 6,
   "metadata": {},
   "outputs": [],
   "source": [
    "dat1[ 'timestamp' ] = pd.to_datetime( dat1[ 'timestamp' ] )\n",
    "\n",
    "dat1 = dat1.sort_values( by = ['tag-local-identifier', 'timestamp'] )"
   ]
  },
  {
   "cell_type": "code",
   "execution_count": 8,
   "metadata": {},
   "outputs": [],
   "source": [
    "dat1 = dat1.rename( columns = {'tag-local-identifier': 'tag', 'eobs:acceleration-sampling-frequency-per-axis': 'samp_freq', 'eobs:accelerations-raw': 'acc'} )"
   ]
  },
  {
   "cell_type": "code",
   "execution_count": 9,
   "metadata": {},
   "outputs": [],
   "source": [
    "# dat1.to_csv(\"acc_all_trim.csv\")"
   ]
  },
  {
   "cell_type": "code",
   "execution_count": null,
   "metadata": {},
   "outputs": [],
   "source": []
  },
  {
   "cell_type": "code",
   "execution_count": null,
   "metadata": {},
   "outputs": [],
   "source": [
    "dat1 = pd.read_csv(\"acc_all_trim.csv\", header=0)\n",
    "\n",
    "dat1[ 'timestamp' ] = pd.to_datetime( dat1[ 'timestamp' ] )\n"
   ]
  },
  {
   "cell_type": "code",
   "execution_count": 10,
   "metadata": {},
   "outputs": [],
   "source": [
    "seconds = list( map( lambda x: x.time().second, dat1[ 'timestamp' ] ) )"
   ]
  },
  {
   "cell_type": "code",
   "execution_count": 11,
   "metadata": {},
   "outputs": [],
   "source": [
    "inds_to_keep = np.where( np.array( seconds ) < 12 ) "
   ]
  },
  {
   "cell_type": "code",
   "execution_count": 12,
   "metadata": {},
   "outputs": [
    {
     "data": {
      "text/html": [
       "<div>\n",
       "<style scoped>\n",
       "    .dataframe tbody tr th:only-of-type {\n",
       "        vertical-align: middle;\n",
       "    }\n",
       "\n",
       "    .dataframe tbody tr th {\n",
       "        vertical-align: top;\n",
       "    }\n",
       "\n",
       "    .dataframe thead th {\n",
       "        text-align: right;\n",
       "    }\n",
       "</style>\n",
       "<table border=\"1\" class=\"dataframe\">\n",
       "  <thead>\n",
       "    <tr style=\"text-align: right;\">\n",
       "      <th></th>\n",
       "      <th>tag</th>\n",
       "      <th>timestamp</th>\n",
       "      <th>samp_freq</th>\n",
       "      <th>acc</th>\n",
       "    </tr>\n",
       "  </thead>\n",
       "  <tbody>\n",
       "    <tr>\n",
       "      <td>8590932</td>\n",
       "      <td>2426</td>\n",
       "      <td>2012-08-01 03:02:00</td>\n",
       "      <td>12.0</td>\n",
       "      <td>2144 2049 1514 2133 2070 1492 2148 2077 1496 2...</td>\n",
       "    </tr>\n",
       "    <tr>\n",
       "      <td>8590933</td>\n",
       "      <td>2426</td>\n",
       "      <td>2012-08-01 03:02:01</td>\n",
       "      <td>12.0</td>\n",
       "      <td>2140 2050 1517 2136 2069 1491 2150 2069 1489 2...</td>\n",
       "    </tr>\n",
       "    <tr>\n",
       "      <td>8590934</td>\n",
       "      <td>2426</td>\n",
       "      <td>2012-08-01 03:02:02</td>\n",
       "      <td>12.0</td>\n",
       "      <td>2130 2067 1534 2135 2057 1524 2144 2064 1508 2...</td>\n",
       "    </tr>\n",
       "    <tr>\n",
       "      <td>8590935</td>\n",
       "      <td>2426</td>\n",
       "      <td>2012-08-01 03:02:03</td>\n",
       "      <td>12.0</td>\n",
       "      <td>2156 2072 1486 2157 2069 1488 2142 2084 1517 2...</td>\n",
       "    </tr>\n",
       "    <tr>\n",
       "      <td>8590936</td>\n",
       "      <td>2426</td>\n",
       "      <td>2012-08-01 03:02:04</td>\n",
       "      <td>12.0</td>\n",
       "      <td>2144 2053 1493 2147 2072 1482 2136 2074 1507 2...</td>\n",
       "    </tr>\n",
       "    <tr>\n",
       "      <td>...</td>\n",
       "      <td>...</td>\n",
       "      <td>...</td>\n",
       "      <td>...</td>\n",
       "      <td>...</td>\n",
       "    </tr>\n",
       "    <tr>\n",
       "      <td>18677195</td>\n",
       "      <td>2460</td>\n",
       "      <td>2012-08-01 11:33:07</td>\n",
       "      <td>12.0</td>\n",
       "      <td>1691 2236 1705 1686 2202 1753 1698 2213 1716 1...</td>\n",
       "    </tr>\n",
       "    <tr>\n",
       "      <td>18677196</td>\n",
       "      <td>2460</td>\n",
       "      <td>2012-08-01 11:33:08</td>\n",
       "      <td>12.0</td>\n",
       "      <td>1674 2234 1777 1698 2228 1761 1702 2244 1705 1...</td>\n",
       "    </tr>\n",
       "    <tr>\n",
       "      <td>18677197</td>\n",
       "      <td>2460</td>\n",
       "      <td>2012-08-01 11:33:09</td>\n",
       "      <td>12.0</td>\n",
       "      <td>1704 2218 1706 1675 2208 1787 1701 2220 1746 1...</td>\n",
       "    </tr>\n",
       "    <tr>\n",
       "      <td>18677198</td>\n",
       "      <td>2460</td>\n",
       "      <td>2012-08-01 11:33:10</td>\n",
       "      <td>12.0</td>\n",
       "      <td>1686 2258 1792 1714 2264 1744 1696 2251 1745 1...</td>\n",
       "    </tr>\n",
       "    <tr>\n",
       "      <td>18677199</td>\n",
       "      <td>2460</td>\n",
       "      <td>2012-08-01 11:33:11</td>\n",
       "      <td>12.0</td>\n",
       "      <td>1692 2264 1761 1689 2237 1785 1700 2260 1740 1...</td>\n",
       "    </tr>\n",
       "  </tbody>\n",
       "</table>\n",
       "<p>4194166 rows × 4 columns</p>\n",
       "</div>"
      ],
      "text/plain": [
       "           tag           timestamp  samp_freq  \\\n",
       "8590932   2426 2012-08-01 03:02:00       12.0   \n",
       "8590933   2426 2012-08-01 03:02:01       12.0   \n",
       "8590934   2426 2012-08-01 03:02:02       12.0   \n",
       "8590935   2426 2012-08-01 03:02:03       12.0   \n",
       "8590936   2426 2012-08-01 03:02:04       12.0   \n",
       "...        ...                 ...        ...   \n",
       "18677195  2460 2012-08-01 11:33:07       12.0   \n",
       "18677196  2460 2012-08-01 11:33:08       12.0   \n",
       "18677197  2460 2012-08-01 11:33:09       12.0   \n",
       "18677198  2460 2012-08-01 11:33:10       12.0   \n",
       "18677199  2460 2012-08-01 11:33:11       12.0   \n",
       "\n",
       "                                                        acc  \n",
       "8590932   2144 2049 1514 2133 2070 1492 2148 2077 1496 2...  \n",
       "8590933   2140 2050 1517 2136 2069 1491 2150 2069 1489 2...  \n",
       "8590934   2130 2067 1534 2135 2057 1524 2144 2064 1508 2...  \n",
       "8590935   2156 2072 1486 2157 2069 1488 2142 2084 1517 2...  \n",
       "8590936   2144 2053 1493 2147 2072 1482 2136 2074 1507 2...  \n",
       "...                                                     ...  \n",
       "18677195  1691 2236 1705 1686 2202 1753 1698 2213 1716 1...  \n",
       "18677196  1674 2234 1777 1698 2228 1761 1702 2244 1705 1...  \n",
       "18677197  1704 2218 1706 1675 2208 1787 1701 2220 1746 1...  \n",
       "18677198  1686 2258 1792 1714 2264 1744 1696 2251 1745 1...  \n",
       "18677199  1692 2264 1761 1689 2237 1785 1700 2260 1740 1...  \n",
       "\n",
       "[4194166 rows x 4 columns]"
      ]
     },
     "execution_count": 12,
     "metadata": {},
     "output_type": "execute_result"
    }
   ],
   "source": [
    "dat1.iloc[ inds_to_keep ]"
   ]
  },
  {
   "cell_type": "code",
   "execution_count": 13,
   "metadata": {},
   "outputs": [],
   "source": [
    "dat = dat1.iloc[ inds_to_keep ]"
   ]
  },
  {
   "cell_type": "code",
   "execution_count": 14,
   "metadata": {},
   "outputs": [],
   "source": [
    "new_sec = list( map( lambda x: x.time().second, dat[ 'timestamp' ] ) )"
   ]
  },
  {
   "cell_type": "code",
   "execution_count": 15,
   "metadata": {},
   "outputs": [
    {
     "data": {
      "text/plain": [
       "(array([971490., 321284., 323240., 321326., 323206., 321327., 323171.,\n",
       "        321381., 323199., 644542.]),\n",
       " array([ 0. ,  1.1,  2.2,  3.3,  4.4,  5.5,  6.6,  7.7,  8.8,  9.9, 11. ]),\n",
       " <a list of 10 Patch objects>)"
      ]
     },
     "execution_count": 15,
     "metadata": {},
     "output_type": "execute_result"
    },
    {
     "data": {
      "image/png": "[encoded data removed]",
      "text/plain": [
       "<Figure size 432x288 with 1 Axes>"
      ]
     },
     "metadata": {
      "needs_background": "light"
     },
     "output_type": "display_data"
    }
   ],
   "source": [
    "plt.hist( new_sec )"
   ]
  },
  {
   "cell_type": "code",
   "execution_count": 16,
   "metadata": {},
   "outputs": [
    {
     "data": {
      "text/plain": [
       "['2140',\n",
       " '2050',\n",
       " '1517',\n",
       " '2136',\n",
       " '2069',\n",
       " '1491',\n",
       " '2150',\n",
       " '2069',\n",
       " '1489',\n",
       " '2148',\n",
       " '2072',\n",
       " '1509',\n",
       " '2136',\n",
       " '2066',\n",
       " '1532',\n",
       " '2144',\n",
       " '2056',\n",
       " '1511',\n",
       " '2148',\n",
       " '2070',\n",
       " '1491',\n",
       " '2145',\n",
       " '2073',\n",
       " '1506',\n",
       " '2142',\n",
       " '2068',\n",
       " '1527',\n",
       " '2142',\n",
       " '2053',\n",
       " '1513',\n",
       " '2140',\n",
       " '2052',\n",
       " '1502',\n",
       " '2144',\n",
       " '2074',\n",
       " '1512']"
      ]
     },
     "execution_count": 16,
     "metadata": {},
     "output_type": "execute_result"
    }
   ],
   "source": [
    "temp = dat.iloc[1,3].split( ' ' )\n",
    "temp"
   ]
  },
  {
   "cell_type": "code",
   "execution_count": 17,
   "metadata": {},
   "outputs": [
    {
     "data": {
      "text/plain": [
       "['1517',\n",
       " '1491',\n",
       " '1489',\n",
       " '1509',\n",
       " '1532',\n",
       " '1511',\n",
       " '1491',\n",
       " '1506',\n",
       " '1527',\n",
       " '1513',\n",
       " '1502',\n",
       " '1512']"
      ]
     },
     "execution_count": 17,
     "metadata": {},
     "output_type": "execute_result"
    }
   ],
   "source": [
    "temp [ 2 :: 3 ]"
   ]
  },
  {
   "cell_type": "code",
   "execution_count": 18,
   "metadata": {},
   "outputs": [],
   "source": [
    "fixes = []\n",
    "\n",
    "for i in range( dat.shape[0] ):\n",
    "    fixes.append( len( dat.iloc[i, 3].split( ' ' ) ) )"
   ]
  },
  {
   "cell_type": "code",
   "execution_count": 19,
   "metadata": {},
   "outputs": [
    {
     "data": {
      "text/plain": [
       "'1692 2264 1761 1689 2237 1785 1700 2260 1740 1697 2261 1770 1706 2261 1784 1698 2243 1755 1696 2256 1741 1681 2267 1750 1685 2247 1784 1701 2250 1754 1697 2246 1738 1696 2240 1756'"
      ]
     },
     "execution_count": 19,
     "metadata": {},
     "output_type": "execute_result"
    }
   ],
   "source": [
    "dat.iloc[i, 3]"
   ]
  },
  {
   "cell_type": "code",
   "execution_count": 20,
   "metadata": {},
   "outputs": [
    {
     "data": {
      "text/plain": [
       "(array([3866999.,       0.,       0.,       0.,       0.,       0.,\n",
       "              0.,       0.,       0.,  327167.]),\n",
       " array([36. , 40.2, 44.4, 48.6, 52.8, 57. , 61.2, 65.4, 69.6, 73.8, 78. ]),\n",
       " <a list of 10 Patch objects>)"
      ]
     },
     "execution_count": 20,
     "metadata": {},
     "output_type": "execute_result"
    },
    {
     "data": {
      "image/png": "[encoded data removed]",
      "text/plain": [
       "<Figure size 432x288 with 1 Axes>"
      ]
     },
     "metadata": {
      "needs_background": "light"
     },
     "output_type": "display_data"
    }
   ],
   "source": [
    "plt.hist( fixes )"
   ]
  },
  {
   "cell_type": "code",
   "execution_count": 21,
   "metadata": {},
   "outputs": [],
   "source": [
    "fixes = np.array(fixes)"
   ]
  },
  {
   "cell_type": "code",
   "execution_count": 22,
   "metadata": {},
   "outputs": [
    {
     "data": {
      "text/plain": [
       "{36, 78}"
      ]
     },
     "execution_count": 22,
     "metadata": {},
     "output_type": "execute_result"
    }
   ],
   "source": [
    "set(fixes)\n"
   ]
  },
  {
   "cell_type": "code",
   "execution_count": 23,
   "metadata": {},
   "outputs": [
    {
     "name": "stdout",
     "output_type": "stream",
     "text": [
      "0.0\n"
     ]
    }
   ],
   "source": [
    "hz_12 = np.linspace( 0, 1, 13 )\n",
    "\n",
    "final_col = []\n",
    "\n",
    "for i in range( dat.shape[0]):\n",
    "    \n",
    "    if len( dat.iloc[i, 3].split( ' ' ) ) == 78:\n",
    "        \n",
    "        final_col.append( dat.iloc[i, 3] )\n",
    "    \n",
    "    else:\n",
    "        \n",
    "        if  len( dat.iloc[i, 3].split( ' ' ) ) != 36:\n",
    "            \n",
    "            print( dat.iloc[i, ] , flush = True)\n",
    "            final_col.append( dat.iloc[i, 3] )\n",
    "\n",
    "        else:\n",
    "            xyz = dat.iloc[i, 3].split( ' ' )\n",
    "            \n",
    "            x = xyz[0::3]\n",
    "            y = xyz[1::3]\n",
    "            z = xyz[2::3]\n",
    "            \n",
    "            new_x = [ int(x[0]) ]\n",
    "            new_y = [ int(y[0]) ]\n",
    "            new_z = [ int(z[0]) ]\n",
    "                \n",
    "            new_x.append( np.average( [ int( x[1]) , int( x[2] ) ], weights = [ (hz_12[2] - 0.1 ) , ( 0.1 - hz_12[1] ) ] ) )\n",
    "            new_x.append( np.average( [ int( x[2]) , int( x[3] ) ], weights = [ (hz_12[3] - 0.2 ) , ( 0.2 - hz_12[2] ) ] ) )\n",
    "            new_x.append( np.average( [ int( x[3]) , int( x[4] ) ], weights = [ (hz_12[4] - 0.3 ) , ( 0.3 - hz_12[3] ) ] ) )\n",
    "            new_x.append( np.average( [ int( x[4]) , int( x[5] ) ], weights = [ (hz_12[5] - 0.4 ) , ( 0.4 - hz_12[4] ) ] ) )\n",
    "            new_x.append( int( x[6] ) )\n",
    "            new_x.append( np.average( [ int( x[7]) , int( x[8] ) ], weights = [ (hz_12[8] - 0.6 ) , ( 0.6 - hz_12[7] ) ] ) )\n",
    "            new_x.append( np.average( [ int( x[8]) , int( x[9] ) ], weights = [ (hz_12[9] - 0.7 ) , ( 0.7 - hz_12[8] ) ] ) )\n",
    "            new_x.append( np.average( [ int( x[9]) , int( x[10] ) ], weights = [ (hz_12[10] - 0.8 ) , ( 0.8 - hz_12[9] ) ] ) )\n",
    "            new_x.append( np.average( [ int( x[10]) , int( x[11] ) ], weights = [ (hz_12[11] - 0.9 ) , ( 0.9 - hz_12[10] ) ] ) )\n",
    "\n",
    "\n",
    "            new_y.append( np.average( [ int( y[1]) , int( y[2] ) ], weights = [ (hz_12[2] - 0.1 ) , ( 0.1 - hz_12[1] ) ] ) )\n",
    "            new_y.append( np.average( [ int( y[2]) , int( y[3] ) ], weights = [ (hz_12[3] - 0.2 ) , ( 0.2 - hz_12[2] ) ] ) )\n",
    "            new_y.append( np.average( [ int( y[3]) , int( y[4] ) ], weights = [ (hz_12[4] - 0.3 ) , ( 0.3 - hz_12[3] ) ] ) )\n",
    "            new_y.append( np.average( [ int( y[4]) , int( y[5] ) ], weights = [ (hz_12[5] - 0.4 ) , ( 0.4 - hz_12[4] ) ] ) )\n",
    "            new_y.append( int( y[6] ) )\n",
    "            new_y.append( np.average( [ int( y[7]) , int( y[8] ) ], weights = [ (hz_12[8] - 0.6 ) , ( 0.6 - hz_12[7] ) ] ) )\n",
    "            new_y.append( np.average( [ int( y[8]) , int( y[9] ) ], weights = [ (hz_12[9] - 0.7 ) , ( 0.7 - hz_12[8] ) ] ) )\n",
    "            new_y.append( np.average( [ int( y[9]) , int( y[10] ) ], weights = [ (hz_12[10] - 0.8 ) , ( 0.8 - hz_12[9] ) ] ) )\n",
    "            new_y.append( np.average( [ int( y[10]) , int( y[11] ) ], weights = [ (hz_12[11] - 0.9 ) , ( 0.9 - hz_12[10] ) ] ) )\n",
    "\n",
    "\n",
    "            new_z.append( np.average( [ int( z[1]) , int( z[2] ) ], weights = [ (hz_12[2] - 0.1 ) , ( 0.1 - hz_12[1] ) ] ) )\n",
    "            new_z.append( np.average( [ int( z[2]) , int( z[3] ) ], weights = [ (hz_12[3] - 0.2 ) , ( 0.2 - hz_12[2] ) ] ) )\n",
    "            new_z.append( np.average( [ int( z[3]) , int( z[4] ) ], weights = [ (hz_12[4] - 0.3 ) , ( 0.3 - hz_12[3] ) ] ) )\n",
    "            new_z.append( np.average( [ int( z[4]) , int( z[5] ) ], weights = [ (hz_12[5] - 0.4 ) , ( 0.4 - hz_12[4] ) ] ) )\n",
    "            new_z.append( int( z[6]) )\n",
    "            new_z.append( np.average( [ int( z[7]) , int( z[8] ) ], weights = [ (hz_12[8] - 0.6 ) , ( 0.6 - hz_12[7] ) ] ) )\n",
    "            new_z.append( np.average( [ int( z[8]) , int( z[9] ) ], weights = [ (hz_12[9] - 0.7 ) , ( 0.7 - hz_12[8] ) ] ) )\n",
    "            new_z.append( np.average( [ int( z[9]) , int( z[10] ) ], weights = [ (hz_12[10] - 0.8 ) , ( 0.8 - hz_12[9] ) ] ) )\n",
    "            new_z.append( np.average( [ int( z[10]) , int( z[11] ) ], weights = [ (hz_12[11] - 0.9 ) , ( 0.9 - hz_12[10] ) ] ) )\n",
    "            \n",
    "            full_acc = [ [ m, n, p ]  for m, n, p in zip( new_x , new_y, new_z )]\n",
    "            \n",
    "            new_xyz = []\n",
    "            for sublist in full_acc:\n",
    "                for item in sublist:\n",
    "                    new_xyz.append(item)\n",
    "            \n",
    "            new_xyz = list( map( str, new_xyz ))\n",
    "            final_xyz = ' '.join(new_xyz)\n",
    "            \n",
    "            final_col.append( final_xyz )\n",
    "            \n",
    "    if (i % 100000) == 0:\n",
    "        \n",
    "        print( i / dat.shape[ 0 ], flush = True )\n",
    "\n",
    "            \n",
    "    "
   ]
  },
  {
   "cell_type": "code",
   "execution_count": 27,
   "metadata": {},
   "outputs": [
    {
     "name": "stderr",
     "output_type": "stream",
     "text": [
      "C:\\Users\\cloftus\\Anaconda3\\lib\\site-packages\\ipykernel_launcher.py:1: SettingWithCopyWarning: \n",
      "A value is trying to be set on a copy of a slice from a DataFrame.\n",
      "Try using .loc[row_indexer,col_indexer] = value instead\n",
      "\n",
      "See the caveats in the documentation: http://pandas.pydata.org/pandas-docs/stable/user_guide/indexing.html#returning-a-view-versus-a-copy\n",
      "  \"\"\"Entry point for launching an IPython kernel.\n"
     ]
    }
   ],
   "source": [
    "dat[ 'new_acc' ] = final_col"
   ]
  },
  {
   "cell_type": "code",
   "execution_count": 28,
   "metadata": {},
   "outputs": [
    {
     "data": {
      "text/html": [
       "<div>\n",
       "<style scoped>\n",
       "    .dataframe tbody tr th:only-of-type {\n",
       "        vertical-align: middle;\n",
       "    }\n",
       "\n",
       "    .dataframe tbody tr th {\n",
       "        vertical-align: top;\n",
       "    }\n",
       "\n",
       "    .dataframe thead th {\n",
       "        text-align: right;\n",
       "    }\n",
       "</style>\n",
       "<table border=\"1\" class=\"dataframe\">\n",
       "  <thead>\n",
       "    <tr style=\"text-align: right;\">\n",
       "      <th></th>\n",
       "      <th>tag</th>\n",
       "      <th>timestamp</th>\n",
       "      <th>samp_freq</th>\n",
       "      <th>acc</th>\n",
       "      <th>new_acc</th>\n",
       "    </tr>\n",
       "  </thead>\n",
       "  <tbody>\n",
       "    <tr>\n",
       "      <td>8590932</td>\n",
       "      <td>2426</td>\n",
       "      <td>2012-08-01 03:02:00</td>\n",
       "      <td>12.0</td>\n",
       "      <td>2144 2049 1514 2133 2070 1492 2148 2077 1496 2...</td>\n",
       "      <td>2144 2049 1514 2136.0 2071.4 1492.8 2144.79999...</td>\n",
       "    </tr>\n",
       "    <tr>\n",
       "      <td>8590933</td>\n",
       "      <td>2426</td>\n",
       "      <td>2012-08-01 03:02:01</td>\n",
       "      <td>12.0</td>\n",
       "      <td>2140 2050 1517 2136 2069 1491 2150 2069 1489 2...</td>\n",
       "      <td>2140 2050 1517 2138.8 2069.0 1490.6 2149.2 207...</td>\n",
       "    </tr>\n",
       "    <tr>\n",
       "      <td>8590934</td>\n",
       "      <td>2426</td>\n",
       "      <td>2012-08-01 03:02:02</td>\n",
       "      <td>12.0</td>\n",
       "      <td>2130 2067 1534 2135 2057 1524 2144 2064 1508 2...</td>\n",
       "      <td>2130 2067 1534 2136.8 2058.3999999999996 1520....</td>\n",
       "    </tr>\n",
       "    <tr>\n",
       "      <td>8590935</td>\n",
       "      <td>2426</td>\n",
       "      <td>2012-08-01 03:02:03</td>\n",
       "      <td>12.0</td>\n",
       "      <td>2156 2072 1486 2157 2069 1488 2142 2084 1517 2...</td>\n",
       "      <td>2156 2072 1486 2154.0 2072.0 1493.8 2144.79999...</td>\n",
       "    </tr>\n",
       "    <tr>\n",
       "      <td>8590936</td>\n",
       "      <td>2426</td>\n",
       "      <td>2012-08-01 03:02:04</td>\n",
       "      <td>12.0</td>\n",
       "      <td>2144 2053 1493 2147 2072 1482 2136 2074 1507 2...</td>\n",
       "      <td>2144 2053 1493 2144.8 2072.4 1487.0 2140.0 207...</td>\n",
       "    </tr>\n",
       "  </tbody>\n",
       "</table>\n",
       "</div>"
      ],
      "text/plain": [
       "          tag           timestamp  samp_freq  \\\n",
       "8590932  2426 2012-08-01 03:02:00       12.0   \n",
       "8590933  2426 2012-08-01 03:02:01       12.0   \n",
       "8590934  2426 2012-08-01 03:02:02       12.0   \n",
       "8590935  2426 2012-08-01 03:02:03       12.0   \n",
       "8590936  2426 2012-08-01 03:02:04       12.0   \n",
       "\n",
       "                                                       acc  \\\n",
       "8590932  2144 2049 1514 2133 2070 1492 2148 2077 1496 2...   \n",
       "8590933  2140 2050 1517 2136 2069 1491 2150 2069 1489 2...   \n",
       "8590934  2130 2067 1534 2135 2057 1524 2144 2064 1508 2...   \n",
       "8590935  2156 2072 1486 2157 2069 1488 2142 2084 1517 2...   \n",
       "8590936  2144 2053 1493 2147 2072 1482 2136 2074 1507 2...   \n",
       "\n",
       "                                                   new_acc  \n",
       "8590932  2144 2049 1514 2136.0 2071.4 1492.8 2144.79999...  \n",
       "8590933  2140 2050 1517 2138.8 2069.0 1490.6 2149.2 207...  \n",
       "8590934  2130 2067 1534 2136.8 2058.3999999999996 1520....  \n",
       "8590935  2156 2072 1486 2154.0 2072.0 1493.8 2144.79999...  \n",
       "8590936  2144 2053 1493 2144.8 2072.4 1487.0 2140.0 207...  "
      ]
     },
     "execution_count": 28,
     "metadata": {},
     "output_type": "execute_result"
    }
   ],
   "source": [
    "dat.head()"
   ]
  },
  {
   "cell_type": "code",
   "execution_count": 29,
   "metadata": {},
   "outputs": [
    {
     "name": "stderr",
     "output_type": "stream",
     "text": [
      "C:\\Users\\cloftus\\Anaconda3\\lib\\site-packages\\ipykernel_launcher.py:1: SettingWithCopyWarning: \n",
      "A value is trying to be set on a copy of a slice from a DataFrame.\n",
      "Try using .loc[row_indexer,col_indexer] = value instead\n",
      "\n",
      "See the caveats in the documentation: http://pandas.pydata.org/pandas-docs/stable/user_guide/indexing.html#returning-a-view-versus-a-copy\n",
      "  \"\"\"Entry point for launching an IPython kernel.\n"
     ]
    }
   ],
   "source": [
    "dat[ 'min' ] = list( map( lambda x: x.strftime(\"%Y-%m-%d %H:%M\"), dat['timestamp'] ))"
   ]
  },
  {
   "cell_type": "code",
   "execution_count": 30,
   "metadata": {},
   "outputs": [
    {
     "name": "stderr",
     "output_type": "stream",
     "text": [
      "C:\\Users\\cloftus\\Anaconda3\\lib\\site-packages\\ipykernel_launcher.py:1: SettingWithCopyWarning: \n",
      "A value is trying to be set on a copy of a slice from a DataFrame.\n",
      "Try using .loc[row_indexer,col_indexer] = value instead\n",
      "\n",
      "See the caveats in the documentation: http://pandas.pydata.org/pandas-docs/stable/user_guide/indexing.html#returning-a-view-versus-a-copy\n",
      "  \"\"\"Entry point for launching an IPython kernel.\n"
     ]
    }
   ],
   "source": [
    "dat[ 'sec_diff' ] =  list( map( lambda x: x.total_seconds(), dat['timestamp'].diff() ) ) "
   ]
  },
  {
   "cell_type": "code",
   "execution_count": 31,
   "metadata": {},
   "outputs": [
    {
     "data": {
      "text/html": [
       "<div>\n",
       "<style scoped>\n",
       "    .dataframe tbody tr th:only-of-type {\n",
       "        vertical-align: middle;\n",
       "    }\n",
       "\n",
       "    .dataframe tbody tr th {\n",
       "        vertical-align: top;\n",
       "    }\n",
       "\n",
       "    .dataframe thead th {\n",
       "        text-align: right;\n",
       "    }\n",
       "</style>\n",
       "<table border=\"1\" class=\"dataframe\">\n",
       "  <thead>\n",
       "    <tr style=\"text-align: right;\">\n",
       "      <th></th>\n",
       "      <th>tag</th>\n",
       "      <th>timestamp</th>\n",
       "      <th>samp_freq</th>\n",
       "      <th>acc</th>\n",
       "      <th>new_acc</th>\n",
       "      <th>min</th>\n",
       "      <th>sec_diff</th>\n",
       "    </tr>\n",
       "  </thead>\n",
       "  <tbody>\n",
       "    <tr>\n",
       "      <td>8590932</td>\n",
       "      <td>2426</td>\n",
       "      <td>2012-08-01 03:02:00</td>\n",
       "      <td>12.0</td>\n",
       "      <td>2144 2049 1514 2133 2070 1492 2148 2077 1496 2...</td>\n",
       "      <td>2144 2049 1514 2136.0 2071.4 1492.8 2144.79999...</td>\n",
       "      <td>2012-08-01 03:02</td>\n",
       "      <td>NaN</td>\n",
       "    </tr>\n",
       "    <tr>\n",
       "      <td>8590933</td>\n",
       "      <td>2426</td>\n",
       "      <td>2012-08-01 03:02:01</td>\n",
       "      <td>12.0</td>\n",
       "      <td>2140 2050 1517 2136 2069 1491 2150 2069 1489 2...</td>\n",
       "      <td>2140 2050 1517 2138.8 2069.0 1490.6 2149.2 207...</td>\n",
       "      <td>2012-08-01 03:02</td>\n",
       "      <td>1.0</td>\n",
       "    </tr>\n",
       "    <tr>\n",
       "      <td>8590934</td>\n",
       "      <td>2426</td>\n",
       "      <td>2012-08-01 03:02:02</td>\n",
       "      <td>12.0</td>\n",
       "      <td>2130 2067 1534 2135 2057 1524 2144 2064 1508 2...</td>\n",
       "      <td>2130 2067 1534 2136.8 2058.3999999999996 1520....</td>\n",
       "      <td>2012-08-01 03:02</td>\n",
       "      <td>1.0</td>\n",
       "    </tr>\n",
       "    <tr>\n",
       "      <td>8590935</td>\n",
       "      <td>2426</td>\n",
       "      <td>2012-08-01 03:02:03</td>\n",
       "      <td>12.0</td>\n",
       "      <td>2156 2072 1486 2157 2069 1488 2142 2084 1517 2...</td>\n",
       "      <td>2156 2072 1486 2154.0 2072.0 1493.8 2144.79999...</td>\n",
       "      <td>2012-08-01 03:02</td>\n",
       "      <td>1.0</td>\n",
       "    </tr>\n",
       "    <tr>\n",
       "      <td>8590936</td>\n",
       "      <td>2426</td>\n",
       "      <td>2012-08-01 03:02:04</td>\n",
       "      <td>12.0</td>\n",
       "      <td>2144 2053 1493 2147 2072 1482 2136 2074 1507 2...</td>\n",
       "      <td>2144 2053 1493 2144.8 2072.4 1487.0 2140.0 207...</td>\n",
       "      <td>2012-08-01 03:02</td>\n",
       "      <td>1.0</td>\n",
       "    </tr>\n",
       "  </tbody>\n",
       "</table>\n",
       "</div>"
      ],
      "text/plain": [
       "          tag           timestamp  samp_freq  \\\n",
       "8590932  2426 2012-08-01 03:02:00       12.0   \n",
       "8590933  2426 2012-08-01 03:02:01       12.0   \n",
       "8590934  2426 2012-08-01 03:02:02       12.0   \n",
       "8590935  2426 2012-08-01 03:02:03       12.0   \n",
       "8590936  2426 2012-08-01 03:02:04       12.0   \n",
       "\n",
       "                                                       acc  \\\n",
       "8590932  2144 2049 1514 2133 2070 1492 2148 2077 1496 2...   \n",
       "8590933  2140 2050 1517 2136 2069 1491 2150 2069 1489 2...   \n",
       "8590934  2130 2067 1534 2135 2057 1524 2144 2064 1508 2...   \n",
       "8590935  2156 2072 1486 2157 2069 1488 2142 2084 1517 2...   \n",
       "8590936  2144 2053 1493 2147 2072 1482 2136 2074 1507 2...   \n",
       "\n",
       "                                                   new_acc               min  \\\n",
       "8590932  2144 2049 1514 2136.0 2071.4 1492.8 2144.79999...  2012-08-01 03:02   \n",
       "8590933  2140 2050 1517 2138.8 2069.0 1490.6 2149.2 207...  2012-08-01 03:02   \n",
       "8590934  2130 2067 1534 2136.8 2058.3999999999996 1520....  2012-08-01 03:02   \n",
       "8590935  2156 2072 1486 2154.0 2072.0 1493.8 2144.79999...  2012-08-01 03:02   \n",
       "8590936  2144 2053 1493 2144.8 2072.4 1487.0 2140.0 207...  2012-08-01 03:02   \n",
       "\n",
       "         sec_diff  \n",
       "8590932       NaN  \n",
       "8590933       1.0  \n",
       "8590934       1.0  \n",
       "8590935       1.0  \n",
       "8590936       1.0  "
      ]
     },
     "execution_count": 31,
     "metadata": {},
     "output_type": "execute_result"
    }
   ],
   "source": [
    "dat.head()"
   ]
  },
  {
   "cell_type": "code",
   "execution_count": 32,
   "metadata": {},
   "outputs": [
    {
     "name": "stdout",
     "output_type": "stream",
     "text": [
      "2432\n",
      "2433\n",
      "2434\n",
      "2436\n",
      "2439\n",
      "2441\n",
      "2443\n",
      "2446\n",
      "2447\n",
      "2448\n",
      "2449\n",
      "2450\n",
      "2451\n",
      "2452\n",
      "2453\n",
      "2454\n",
      "2455\n",
      "2456\n",
      "2457\n",
      "2458\n",
      "2459\n",
      "2460\n",
      "2426\n",
      "2427\n",
      "2428\n",
      "2430\n"
     ]
    }
   ],
   "source": [
    "from sortedcontainers import SortedSet\n",
    "\n",
    "tag_names = set( dat[ 'tag' ] )\n",
    "\n",
    "final_dat = pd.DataFrame()\n",
    "\n",
    "\n",
    "for tag in tag_names:\n",
    "    \n",
    "    print( tag )\n",
    "\n",
    "    final_acc_col = []\n",
    "    \n",
    "    id_dat = dat[ dat[ 'tag' ] == tag ]\n",
    "    \n",
    "    min_list = SortedSet( id_dat[ 'min' ] )\n",
    "    \n",
    "    for minute in min_list:\n",
    "    \n",
    "        min_dat = id_dat[ id_dat[ 'min' ] == minute ]\n",
    "\n",
    "        switch = 0\n",
    "        \n",
    "        if min_dat.shape[0] < 3:\n",
    "            \n",
    "            final_acc_col.append( min_dat[ 'new_acc' ].iloc[0] )\n",
    "            \n",
    "        else:\n",
    "            \n",
    "            for j in range( min_dat.shape[0] - 2 ):\n",
    "                \n",
    "                if( all( min_dat['sec_diff'].iloc[ [ j + 1, j + 2 ] ] == 1 ) ):\n",
    "                        \n",
    "                    three_secs = ' '.join( min_dat['new_acc'].iloc[ [ j, j + 1, j + 2 ] ] )\n",
    "                    \n",
    "                    final_acc_col.append( ' '.join( three_secs.split( ' ' )[ : 78 ] ) )\n",
    "                    \n",
    "                    switch = 1\n",
    "                    \n",
    "                    break\n",
    "                    \n",
    "                    \n",
    "            if switch == 0:\n",
    "                \n",
    "                final_acc_col.append( min_dat[ 'new_acc' ].iloc[0] )\n",
    "\n",
    "                \n",
    "    temp_df = pd.DataFrame(\n",
    "            {\n",
    "            'tag': tag ,\n",
    "            'timestamp':  min_list ,\n",
    "            'acc': final_acc_col\n",
    "        }\n",
    "    )\n",
    "    \n",
    "    final_dat = pd.concat( [ final_dat, temp_df ] )\n",
    "\n"
   ]
  },
  {
   "cell_type": "code",
   "execution_count": 36,
   "metadata": {},
   "outputs": [
    {
     "data": {
      "text/plain": [
       "(665423, 3)"
      ]
     },
     "execution_count": 36,
     "metadata": {},
     "output_type": "execute_result"
    }
   ],
   "source": [
    "final_dat.shape"
   ]
  },
  {
   "cell_type": "code",
   "execution_count": 34,
   "metadata": {},
   "outputs": [],
   "source": [
    "inds_to_keep = np.where( np.array( list( map( lambda x: len( x.split( ' ' ) ), final_dat['acc'] ) ) ) == 78 )"
   ]
  },
  {
   "cell_type": "code",
   "execution_count": 42,
   "metadata": {},
   "outputs": [],
   "source": [
    "final_dat_1 = final_dat.iloc[ inds_to_keep[0] ]"
   ]
  },
  {
   "cell_type": "code",
   "execution_count": 49,
   "metadata": {},
   "outputs": [],
   "source": [
    "final_dat_1.to_csv(\"all_burst_acc.csv\", index = False)"
   ]
  },
  {
   "cell_type": "code",
   "execution_count": 50,
   "metadata": {},
   "outputs": [
    {
     "data": {
      "text/plain": [
       "(4194166, 7)"
      ]
     },
     "execution_count": 50,
     "metadata": {},
     "output_type": "execute_result"
    }
   ],
   "source": [
    "\n",
    "dat.shape"
   ]
  },
  {
   "cell_type": "code",
   "execution_count": 54,
   "metadata": {},
   "outputs": [
    {
     "data": {
      "text/plain": [
       "39925380"
      ]
     },
     "execution_count": 54,
     "metadata": {},
     "output_type": "execute_result"
    }
   ],
   "source": [
    "\n"
   ]
  },
  {
   "cell_type": "code",
   "execution_count": null,
   "metadata": {},
   "outputs": [],
   "source": []
  }
 ],
 "metadata": {
  "kernelspec": {
   "display_name": "Python 3",
   "language": "python",
   "name": "python3"
  },
  "language_info": {
   "codemirror_mode": {
    "name": "ipython",
    "version": 3
   },
   "file_extension": ".py",
   "mimetype": "text/x-python",
   "name": "python",
   "nbconvert_exporter": "python",
   "pygments_lexer": "ipython3",
   "version": "3.7.4"
  }
 },
 "nbformat": 4,
 "nbformat_minor": 2
}
