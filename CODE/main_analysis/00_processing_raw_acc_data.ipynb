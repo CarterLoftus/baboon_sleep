{
 "cells": [
  {
   "cell_type": "code",
   "execution_count": 1,
   "metadata": {},
   "outputs": [],
   "source": [
    "import os\n",
    "import pandas as pd\n",
    "import numpy as np\n",
    "import matplotlib.pyplot as plt\n",
    "import datetime as dt"
   ]
  },
  {
   "cell_type": "code",
   "execution_count": null,
   "metadata": {},
   "outputs": [],
   "source": []
  },
  {
   "cell_type": "code",
   "execution_count": 2,
   "metadata": {
    "scrolled": false
   },
   "outputs": [],
   "source": [
    "# set working directory to the repository \n",
    "os.chdir( \"C:/Users/cloftus/Documents/baboon_sleep/\" )"
   ]
  },
  {
   "cell_type": "code",
   "execution_count": 3,
   "metadata": {},
   "outputs": [],
   "source": [
    "os.chdir( \"DATA/main_data\" )"
   ]
  },
  {
   "cell_type": "code",
   "execution_count": 4,
   "metadata": {},
   "outputs": [
    {
     "name": "stderr",
     "output_type": "stream",
     "text": [
      "C:\\Users\\cloftus\\Anaconda3\\lib\\site-packages\\IPython\\core\\interactiveshell.py:3058: DtypeWarning: Columns (5,7,14) have mixed types. Specify dtype option on import or set low_memory=False.\n",
      "  interactivity=interactivity, compiler=compiler, result=result)\n"
     ]
    }
   ],
   "source": [
    "dat1 = pd.read_csv(\"Collective movement in wild baboons.csv\", header=0)"
   ]
  },
  {
   "cell_type": "code",
   "execution_count": 5,
   "metadata": {},
   "outputs": [],
   "source": [
    "dat1 = dat1[ [ 'tag-local-identifier', 'timestamp', 'eobs:acceleration-sampling-frequency-per-axis',\n",
    " 'eobs:accelerations-raw'] ]"
   ]
  },
  {
   "cell_type": "code",
   "execution_count": 6,
   "metadata": {},
   "outputs": [],
   "source": [
    "dat1 = dat1.rename( columns = {'tag-local-identifier': 'tag', 'eobs:acceleration-sampling-frequency-per-axis': 'samp_freq', 'eobs:accelerations-raw': 'acc'} )"
   ]
  },
  {
   "cell_type": "code",
   "execution_count": 7,
   "metadata": {},
   "outputs": [],
   "source": [
    "dat1 = dat1.dropna( subset = [ 'acc' ] )"
   ]
  },
  {
   "cell_type": "code",
   "execution_count": 8,
   "metadata": {},
   "outputs": [],
   "source": [
    "dat1[ 'timestamp' ] = pd.to_datetime( dat1[ 'timestamp' ] )\n",
    "\n",
    "dat1 = dat1.sort_values( by = ['tag', 'timestamp'] )"
   ]
  },
  {
   "cell_type": "code",
   "execution_count": 9,
   "metadata": {},
   "outputs": [],
   "source": [
    "seconds = list( map( lambda x: x.time().second, dat1[ 'timestamp' ] ) )"
   ]
  },
  {
   "cell_type": "code",
   "execution_count": 10,
   "metadata": {},
   "outputs": [],
   "source": [
    "inds_to_keep = np.where( np.array( seconds ) < 12 ) "
   ]
  },
  {
   "cell_type": "code",
   "execution_count": 11,
   "metadata": {},
   "outputs": [],
   "source": [
    "dat = dat1.iloc[ inds_to_keep ]"
   ]
  },
  {
   "cell_type": "code",
   "execution_count": 12,
   "metadata": {},
   "outputs": [
    {
     "name": "stdout",
     "output_type": "stream",
     "text": [
      "0.0\n",
      "0.02384264237514681\n",
      "0.04768528475029362\n",
      "0.07152792712544043\n",
      "0.09537056950058724\n",
      "0.11921321187573405\n",
      "0.14305585425088085\n",
      "0.16689849662602768\n",
      "0.19074113900117448\n",
      "0.2145837813763213\n",
      "0.2384264237514681\n",
      "0.26226906612661494\n",
      "0.2861117085017617\n",
      "0.30995435087690854\n",
      "0.33379699325205536\n",
      "0.3576396356272022\n",
      "0.38148227800234896\n",
      "0.4053249203774958\n",
      "0.4291675627526426\n",
      "0.4530102051277894\n",
      "0.4768528475029362\n",
      "0.500695489878083\n",
      "0.5245381322532299\n",
      "0.5483807746283766\n",
      "0.5722234170035234\n",
      "0.5960660593786703\n",
      "0.6199087017538171\n",
      "0.643751344128964\n",
      "0.6675939865041107\n",
      "0.6914366288792575\n",
      "0.7152792712544044\n",
      "0.7391219136295512\n",
      "0.7629645560046979\n",
      "0.7868071983798448\n",
      "0.8106498407549916\n",
      "0.8344924831301384\n",
      "0.8583351255052852\n",
      "0.882177767880432\n",
      "0.9060204102555788\n",
      "0.9298630526307257\n",
      "0.9537056950058724\n",
      "0.9775483373810192\n"
     ]
    }
   ],
   "source": [
    "hz_12 = np.linspace( 0, 1, 13 )\n",
    "\n",
    "final_col = []\n",
    "\n",
    "for i in range( dat.shape[0]):\n",
    "    \n",
    "    if len( dat.iloc[i, 3].split( ' ' ) ) == 78:\n",
    "        \n",
    "        final_col.append( dat.iloc[i, 3] )\n",
    "    \n",
    "    else:\n",
    "        \n",
    "        if  len( dat.iloc[i, 3].split( ' ' ) ) != 36:\n",
    "            \n",
    "            print( dat.iloc[i, ] , flush = True)\n",
    "            final_col.append( dat.iloc[i, 3] )\n",
    "\n",
    "        else:\n",
    "            xyz = dat.iloc[i, 3].split( ' ' )\n",
    "            \n",
    "            x = xyz[0::3]\n",
    "            y = xyz[1::3]\n",
    "            z = xyz[2::3]\n",
    "            \n",
    "            new_x = [ int(x[0]) ]\n",
    "            new_y = [ int(y[0]) ]\n",
    "            new_z = [ int(z[0]) ]\n",
    "                \n",
    "            new_x.append( np.average( [ int( x[1]) , int( x[2] ) ], weights = [ (hz_12[2] - 0.1 ) , ( 0.1 - hz_12[1] ) ] ) )\n",
    "            new_x.append( np.average( [ int( x[2]) , int( x[3] ) ], weights = [ (hz_12[3] - 0.2 ) , ( 0.2 - hz_12[2] ) ] ) )\n",
    "            new_x.append( np.average( [ int( x[3]) , int( x[4] ) ], weights = [ (hz_12[4] - 0.3 ) , ( 0.3 - hz_12[3] ) ] ) )\n",
    "            new_x.append( np.average( [ int( x[4]) , int( x[5] ) ], weights = [ (hz_12[5] - 0.4 ) , ( 0.4 - hz_12[4] ) ] ) )\n",
    "            new_x.append( int( x[6] ) )\n",
    "            new_x.append( np.average( [ int( x[7]) , int( x[8] ) ], weights = [ (hz_12[8] - 0.6 ) , ( 0.6 - hz_12[7] ) ] ) )\n",
    "            new_x.append( np.average( [ int( x[8]) , int( x[9] ) ], weights = [ (hz_12[9] - 0.7 ) , ( 0.7 - hz_12[8] ) ] ) )\n",
    "            new_x.append( np.average( [ int( x[9]) , int( x[10] ) ], weights = [ (hz_12[10] - 0.8 ) , ( 0.8 - hz_12[9] ) ] ) )\n",
    "            new_x.append( np.average( [ int( x[10]) , int( x[11] ) ], weights = [ (hz_12[11] - 0.9 ) , ( 0.9 - hz_12[10] ) ] ) )\n",
    "\n",
    "\n",
    "            new_y.append( np.average( [ int( y[1]) , int( y[2] ) ], weights = [ (hz_12[2] - 0.1 ) , ( 0.1 - hz_12[1] ) ] ) )\n",
    "            new_y.append( np.average( [ int( y[2]) , int( y[3] ) ], weights = [ (hz_12[3] - 0.2 ) , ( 0.2 - hz_12[2] ) ] ) )\n",
    "            new_y.append( np.average( [ int( y[3]) , int( y[4] ) ], weights = [ (hz_12[4] - 0.3 ) , ( 0.3 - hz_12[3] ) ] ) )\n",
    "            new_y.append( np.average( [ int( y[4]) , int( y[5] ) ], weights = [ (hz_12[5] - 0.4 ) , ( 0.4 - hz_12[4] ) ] ) )\n",
    "            new_y.append( int( y[6] ) )\n",
    "            new_y.append( np.average( [ int( y[7]) , int( y[8] ) ], weights = [ (hz_12[8] - 0.6 ) , ( 0.6 - hz_12[7] ) ] ) )\n",
    "            new_y.append( np.average( [ int( y[8]) , int( y[9] ) ], weights = [ (hz_12[9] - 0.7 ) , ( 0.7 - hz_12[8] ) ] ) )\n",
    "            new_y.append( np.average( [ int( y[9]) , int( y[10] ) ], weights = [ (hz_12[10] - 0.8 ) , ( 0.8 - hz_12[9] ) ] ) )\n",
    "            new_y.append( np.average( [ int( y[10]) , int( y[11] ) ], weights = [ (hz_12[11] - 0.9 ) , ( 0.9 - hz_12[10] ) ] ) )\n",
    "\n",
    "\n",
    "            new_z.append( np.average( [ int( z[1]) , int( z[2] ) ], weights = [ (hz_12[2] - 0.1 ) , ( 0.1 - hz_12[1] ) ] ) )\n",
    "            new_z.append( np.average( [ int( z[2]) , int( z[3] ) ], weights = [ (hz_12[3] - 0.2 ) , ( 0.2 - hz_12[2] ) ] ) )\n",
    "            new_z.append( np.average( [ int( z[3]) , int( z[4] ) ], weights = [ (hz_12[4] - 0.3 ) , ( 0.3 - hz_12[3] ) ] ) )\n",
    "            new_z.append( np.average( [ int( z[4]) , int( z[5] ) ], weights = [ (hz_12[5] - 0.4 ) , ( 0.4 - hz_12[4] ) ] ) )\n",
    "            new_z.append( int( z[6]) )\n",
    "            new_z.append( np.average( [ int( z[7]) , int( z[8] ) ], weights = [ (hz_12[8] - 0.6 ) , ( 0.6 - hz_12[7] ) ] ) )\n",
    "            new_z.append( np.average( [ int( z[8]) , int( z[9] ) ], weights = [ (hz_12[9] - 0.7 ) , ( 0.7 - hz_12[8] ) ] ) )\n",
    "            new_z.append( np.average( [ int( z[9]) , int( z[10] ) ], weights = [ (hz_12[10] - 0.8 ) , ( 0.8 - hz_12[9] ) ] ) )\n",
    "            new_z.append( np.average( [ int( z[10]) , int( z[11] ) ], weights = [ (hz_12[11] - 0.9 ) , ( 0.9 - hz_12[10] ) ] ) )\n",
    "            \n",
    "            full_acc = [ [ m, n, p ]  for m, n, p in zip( new_x , new_y, new_z )]\n",
    "            \n",
    "            new_xyz = []\n",
    "            for sublist in full_acc:\n",
    "                for item in sublist:\n",
    "                    new_xyz.append(item)\n",
    "            \n",
    "            new_xyz = list( map( str, new_xyz ))\n",
    "            final_xyz = ' '.join(new_xyz)\n",
    "            \n",
    "            final_col.append( final_xyz )\n",
    "            \n",
    "    if (i % 100000) == 0:\n",
    "        \n",
    "        print( i / dat.shape[ 0 ], flush = True )\n",
    "\n",
    "            \n",
    "    "
   ]
  },
  {
   "cell_type": "code",
   "execution_count": 13,
   "metadata": {},
   "outputs": [
    {
     "name": "stderr",
     "output_type": "stream",
     "text": [
      "C:\\Users\\cloftus\\Anaconda3\\lib\\site-packages\\ipykernel_launcher.py:1: SettingWithCopyWarning: \n",
      "A value is trying to be set on a copy of a slice from a DataFrame.\n",
      "Try using .loc[row_indexer,col_indexer] = value instead\n",
      "\n",
      "See the caveats in the documentation: http://pandas.pydata.org/pandas-docs/stable/user_guide/indexing.html#returning-a-view-versus-a-copy\n",
      "  \"\"\"Entry point for launching an IPython kernel.\n"
     ]
    }
   ],
   "source": [
    "dat[ 'new_acc' ] = final_col"
   ]
  },
  {
   "cell_type": "code",
   "execution_count": 14,
   "metadata": {},
   "outputs": [
    {
     "name": "stderr",
     "output_type": "stream",
     "text": [
      "C:\\Users\\cloftus\\Anaconda3\\lib\\site-packages\\ipykernel_launcher.py:1: SettingWithCopyWarning: \n",
      "A value is trying to be set on a copy of a slice from a DataFrame.\n",
      "Try using .loc[row_indexer,col_indexer] = value instead\n",
      "\n",
      "See the caveats in the documentation: http://pandas.pydata.org/pandas-docs/stable/user_guide/indexing.html#returning-a-view-versus-a-copy\n",
      "  \"\"\"Entry point for launching an IPython kernel.\n"
     ]
    }
   ],
   "source": [
    "dat[ 'min' ] = list( map( lambda x: x.strftime(\"%Y-%m-%d %H:%M\"), dat['timestamp'] ))"
   ]
  },
  {
   "cell_type": "code",
   "execution_count": 15,
   "metadata": {},
   "outputs": [
    {
     "name": "stderr",
     "output_type": "stream",
     "text": [
      "C:\\Users\\cloftus\\Anaconda3\\lib\\site-packages\\ipykernel_launcher.py:1: SettingWithCopyWarning: \n",
      "A value is trying to be set on a copy of a slice from a DataFrame.\n",
      "Try using .loc[row_indexer,col_indexer] = value instead\n",
      "\n",
      "See the caveats in the documentation: http://pandas.pydata.org/pandas-docs/stable/user_guide/indexing.html#returning-a-view-versus-a-copy\n",
      "  \"\"\"Entry point for launching an IPython kernel.\n"
     ]
    }
   ],
   "source": [
    "dat[ 'sec_diff' ] =  list( map( lambda x: x.total_seconds(), dat['timestamp'].diff() ) ) "
   ]
  },
  {
   "cell_type": "code",
   "execution_count": 16,
   "metadata": {},
   "outputs": [
    {
     "name": "stdout",
     "output_type": "stream",
     "text": [
      "2432\n",
      "2433\n",
      "2434\n",
      "2436\n",
      "2439\n",
      "2441\n",
      "2443\n",
      "2446\n",
      "2447\n",
      "2448\n",
      "2449\n",
      "2450\n",
      "2451\n",
      "2452\n",
      "2453\n",
      "2454\n",
      "2455\n",
      "2456\n",
      "2457\n",
      "2458\n",
      "2459\n",
      "2460\n",
      "2426\n",
      "2427\n",
      "2428\n",
      "2430\n"
     ]
    }
   ],
   "source": [
    "from sortedcontainers import SortedSet\n",
    "\n",
    "tag_names = set( dat[ 'tag' ] )\n",
    "\n",
    "final_dat = pd.DataFrame()\n",
    "\n",
    "\n",
    "for tag in tag_names:\n",
    "    \n",
    "    print( tag )\n",
    "\n",
    "    final_acc_col = []\n",
    "    \n",
    "    id_dat = dat[ dat[ 'tag' ] == tag ]\n",
    "    \n",
    "    min_list = SortedSet( id_dat[ 'min' ] )\n",
    "    \n",
    "    for minute in min_list:\n",
    "    \n",
    "        min_dat = id_dat[ id_dat[ 'min' ] == minute ]\n",
    "\n",
    "        switch = 0\n",
    "        \n",
    "        if min_dat.shape[0] < 3:\n",
    "            \n",
    "            final_acc_col.append( min_dat[ 'new_acc' ].iloc[0] )\n",
    "            \n",
    "        else:\n",
    "            \n",
    "            for j in range( min_dat.shape[0] - 2 ):\n",
    "                \n",
    "                if( all( min_dat['sec_diff'].iloc[ [ j + 1, j + 2 ] ] == 1 ) ):\n",
    "                        \n",
    "                    three_secs = ' '.join( min_dat['new_acc'].iloc[ [ j, j + 1, j + 2 ] ] )\n",
    "                    \n",
    "                    final_acc_col.append( ' '.join( three_secs.split( ' ' )[ : 78 ] ) )\n",
    "                    \n",
    "                    switch = 1\n",
    "                    \n",
    "                    break\n",
    "                    \n",
    "                    \n",
    "            if switch == 0:\n",
    "                \n",
    "                final_acc_col.append( min_dat[ 'new_acc' ].iloc[0] )\n",
    "\n",
    "                \n",
    "    temp_df = pd.DataFrame(\n",
    "            {\n",
    "            'tag': tag ,\n",
    "            'timestamp':  min_list ,\n",
    "            'acc': final_acc_col\n",
    "        }\n",
    "    )\n",
    "    \n",
    "    final_dat = pd.concat( [ final_dat, temp_df ] )\n",
    "\n"
   ]
  },
  {
   "cell_type": "code",
   "execution_count": 18,
   "metadata": {},
   "outputs": [],
   "source": [
    "inds_to_keep = np.where( np.array( list( map( lambda x: len( x.split( ' ' ) ), final_dat['acc'] ) ) ) == 78 )"
   ]
  },
  {
   "cell_type": "code",
   "execution_count": 19,
   "metadata": {},
   "outputs": [],
   "source": [
    "final_dat_1 = final_dat.iloc[ inds_to_keep[0] ]"
   ]
  },
  {
   "cell_type": "code",
   "execution_count": 20,
   "metadata": {},
   "outputs": [],
   "source": [
    "final_dat_1.to_csv(\"all_burst_acc.csv\", index = False)"
   ]
  },
  {
   "cell_type": "code",
   "execution_count": null,
   "metadata": {},
   "outputs": [],
   "source": []
  }
 ],
 "metadata": {
  "kernelspec": {
   "display_name": "Python 3",
   "language": "python",
   "name": "python3"
  },
  "language_info": {
   "codemirror_mode": {
    "name": "ipython",
    "version": 3
   },
   "file_extension": ".py",
   "mimetype": "text/x-python",
   "name": "python",
   "nbconvert_exporter": "python",
   "pygments_lexer": "ipython3",
   "version": "3.7.4"
  }
 },
 "nbformat": 4,
 "nbformat_minor": 2
}
